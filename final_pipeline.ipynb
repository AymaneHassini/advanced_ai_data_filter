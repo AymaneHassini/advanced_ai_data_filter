{
 "cells": [
  {
   "cell_type": "code",
   "execution_count": 27,
   "metadata": {},
   "outputs": [],
   "source": [
    "import numpy as np\n",
    "from preprocessing.text import tokenize\n",
    "from database.connect import conn\n",
    "from models.llm import load_llm\n",
    "from models.classifier import load_classifier\n",
    "from tqdm import tqdm\n",
    "from preprocessing.image import preprocess_and_check_image\n"
   ]
  },
  {
   "cell_type": "code",
   "execution_count": 28,
   "metadata": {},
   "outputs": [
    {
     "name": "stderr",
     "output_type": "stream",
     "text": [
      "100%|██████████| 1/1 [00:00<00:00, 417.88it/s]"
     ]
    },
    {
     "name": "stdout",
     "output_type": "stream",
     "text": [
      "True\n"
     ]
    },
    {
     "name": "stderr",
     "output_type": "stream",
     "text": [
      "\n"
     ]
    }
   ],
   "source": [
    "\n",
    "dataset_subset = tokenize(\"YES\", tokenizer)\n",
    "\n",
    "\n",
    "# Perform prediction\n",
    "predictions = trainer.predict(dataset_subset)\n",
    "\n",
    "predicted_class = np.argmax(predictions.predictions, axis=1)\n",
    "\n",
    "print(predicted_class[0] <= 1)"
   ]
  },
  {
   "cell_type": "code",
   "execution_count": 29,
   "metadata": {},
   "outputs": [],
   "source": [
    "llm = load_llm()\n",
    "trainer, tokenizer = load_classifier()\n"
   ]
  },
  {
   "cell_type": "code",
   "execution_count": 30,
   "metadata": {},
   "outputs": [],
   "source": [
    "cursor = conn.cursor()\n",
    "cursor.execute(\"SELECT * FROM Baby_Bath_Skin_and_Grooming\") \n",
    "rows = cursor.fetchall()"
   ]
  },
  {
   "cell_type": "code",
   "execution_count": 31,
   "metadata": {},
   "outputs": [
    {
     "data": {
      "text/plain": [
       "(['id',\n",
       "  'name',\n",
       "  'main_category',\n",
       "  'sub_category',\n",
       "  'image',\n",
       "  'ratings',\n",
       "  'no_of_ratings',\n",
       "  'discount_price',\n",
       "  'actual_price'],\n",
       " [0])"
      ]
     },
     "execution_count": 31,
     "metadata": {},
     "output_type": "execute_result"
    }
   ],
   "source": [
    "IMAGE_INDEX = 4\n",
    "PRIMARY_KEY = ['id']\n",
    "\n",
    "columns = [col[0] for col in cursor.description]\n",
    "pk_index = [i for i in range(len(columns)) if columns[i] in PRIMARY_KEY]\n",
    "\n",
    "columns, pk_index"
   ]
  },
  {
   "cell_type": "code",
   "execution_count": 36,
   "metadata": {},
   "outputs": [
    {
     "name": "stderr",
     "output_type": "stream",
     "text": [
      "100%|██████████| 1/1 [00:00<00:00, 1960.87it/s]\n",
      "100%|██████████| 1/1 [00:00<00:00, 1519.68it/s]\n",
      "100%|██████████| 1/1 [00:00<00:00, 1527.42it/s]\n",
      "100%|██████████| 1/1 [00:00<00:00, 1280.70it/s]\n",
      "100%|██████████| 1/1 [00:00<00:00, 699.28it/s]\n",
      "100%|██████████| 1/1 [00:00<00:00, 294.03it/s]\n",
      "100%|██████████| 1/1 [00:00<00:00, 2057.04it/s]\n",
      "100%|██████████| 1/1 [00:00<00:00, 597.05it/s]\n",
      "100%|██████████| 1/1 [00:00<00:00, 1738.93it/s]\n",
      "100%|██████████| 1/1 [00:00<00:00, 1383.35it/s]\n",
      "100%|██████████| 10/10 [00:33<00:00,  3.38s/it]\n"
     ]
    }
   ],
   "source": [
    "results_text = []\n",
    "PK = []\n",
    "indices = []\n",
    "\n",
    "for i in tqdm(range(len(rows[:10]))):    \n",
    "    image = preprocess_and_check_image(rows[i][IMAGE_INDEX])\n",
    "    if image:\n",
    "        prompt = \"Analyze the picture, and the row data.\\nDoes it have a baby picture on it that is seen easily in the package?\"\n",
    "        text_data = \" | \".join([f\"{columns[j]}: {rows[i][j]}\" for j in range(len(columns)) if j != IMAGE_INDEX])\n",
    "        result = llm.generate_content(\n",
    "            [image, \"\\n\\n\", f\"Row data: {text_data}\\n\\n\", prompt]\n",
    "        )\n",
    "        results_text.append(result.text)\n",
    "        dataset_subset = tokenize(result.text, tokenizer)\n",
    "        predictions = trainer.predict(dataset_subset)\n",
    "\n",
    "        predicted_class = np.argmax(predictions.predictions, axis=1)[0]\n",
    "        \n",
    "        if predicted_class <= 2:\n",
    "            indices.append(i)\n",
    "            PK.append([rows[i][j] for j in pk_index])\n",
    "            \n",
    "\n",
    "        "
   ]
  },
  {
   "cell_type": "code",
   "execution_count": 37,
   "metadata": {},
   "outputs": [
    {
     "data": {
      "text/plain": [
       "([\"Yes, the LuvLap Liquid Cleanser bottle features a prominent picture of a baby playing with a stacking toy. It's clearly visible on the front label.\\n\",\n",
       "  'No, there is no picture of a real baby on the packaging.  It has cartoon drawings of sea creatures and a stylized narwhal on the headrest.\\n',\n",
       "  \"Yes, the packaging clearly displays a stylized image of a baby's head.  It's prominent near the top of the box and on the bottle label.\",\n",
       "  'No, there is no baby picture on the packaging. The image features a lotus flower and meadowsweet graphic.',\n",
       "  \"No, there isn't a clear picture of a baby on the Cetaphil Baby Mild Bar packaging.  There's a stylized image of a baby's bottom being washed with a cloth/puff and some bubbles, but not a distinct photo or drawing of a baby's face.\\n\",\n",
       "  \"No, there is no baby picture readily visible on the packaging in the image. The packaging shows the Johnson's logo and product information.\",\n",
       "  'No, there is no readily visible baby picture on the packaging. There is a stylized heart graphic with \"Baby Moments\" written inside it.',\n",
       "  \"Yes, there is a picture of a baby's face clearly visible on the front of the product packaging.  The baby appears to be wrapped in a towel or blanket.\\n\",\n",
       "  'Yes, there are stylized figures of an adult and a child on the packaging to indicate it can be used for both.',\n",
       "  'No, there is no easily visible baby picture on the packaging. The packaging features the Chicco logo, product name, and images of oats and apricot.'],\n",
       " [[11], [13], [19], [20]],\n",
       " [0, 2, 7, 8])"
      ]
     },
     "execution_count": 37,
     "metadata": {},
     "output_type": "execute_result"
    }
   ],
   "source": [
    "results_text, PK, indices"
   ]
  },
  {
   "cell_type": "code",
   "execution_count": 40,
   "metadata": {},
   "outputs": [],
   "source": [
    "rows_filtered = [rows[i] for i in indices]"
   ]
  },
  {
   "cell_type": "code",
   "execution_count": 41,
   "metadata": {},
   "outputs": [
    {
     "data": {
      "text/plain": [
       "[(11,\n",
       "  'Luv Lap Liquid Cleanser, Anti-Bacterial, Food Grade, For Baby Bottles, Accessories and Vegetables, 1.5ltr',\n",
       "  'toys & baby products',\n",
       "  'Baby Bath, Skin & Grooming',\n",
       "  'https://m.media-amazon.com/images/I/71p5fCtiCnL._AC_UL320_.jpg',\n",
       "  Decimal('4.40'),\n",
       "  '5,883',\n",
       "  '₹509',\n",
       "  '₹669'),\n",
       " (13,\n",
       "  'The Moms Co. Natural Baby Massage Oil with 10 Oils - Sesame Oil, Avocado, Organic Almond, Organic Jojoba, Organic Chamomil...',\n",
       "  'toys & baby products',\n",
       "  'Baby Bath, Skin & Grooming',\n",
       "  'https://m.media-amazon.com/images/I/71EQE76D+hL._AC_UL320_.jpg',\n",
       "  Decimal('4.40'),\n",
       "  '2,265',\n",
       "  '₹331',\n",
       "  '₹474'),\n",
       " (19,\n",
       "  'BeeBaby Classic Powder Puff with Container for Baby (Blue) | Soft Touch. 100% BPA Free.',\n",
       "  'toys & baby products',\n",
       "  'Baby Bath, Skin & Grooming',\n",
       "  'https://m.media-amazon.com/images/I/61+T2A8EfWL._AC_UL320_.jpg',\n",
       "  Decimal('4.10'),\n",
       "  '1,864',\n",
       "  '₹121',\n",
       "  '₹170'),\n",
       " (20,\n",
       "  'Good knight 100% Natural Mosquito Repellent Fabric Roll-On | Paediatrician Certified | 8-Hour Protect | Citrus - 8 ml',\n",
       "  'toys & baby products',\n",
       "  'Baby Bath, Skin & Grooming',\n",
       "  'https://m.media-amazon.com/images/I/61OUdCB+MOL._AC_UL320_.jpg',\n",
       "  Decimal('4.20'),\n",
       "  '952',\n",
       "  '₹72',\n",
       "  '₹75')]"
      ]
     },
     "execution_count": 41,
     "metadata": {},
     "output_type": "execute_result"
    }
   ],
   "source": [
    "rows_filtered"
   ]
  },
  {
   "cell_type": "code",
   "execution_count": 42,
   "metadata": {},
   "outputs": [
    {
     "data": {
      "text/plain": [
       "[[11], [13], [19], [20]]"
      ]
     },
     "execution_count": 42,
     "metadata": {},
     "output_type": "execute_result"
    }
   ],
   "source": [
    "PK"
   ]
  },
  {
   "cell_type": "code",
   "execution_count": null,
   "metadata": {},
   "outputs": [],
   "source": []
  }
 ],
 "metadata": {
  "kernelspec": {
   "display_name": "main",
   "language": "python",
   "name": "python3"
  },
  "language_info": {
   "codemirror_mode": {
    "name": "ipython",
    "version": 3
   },
   "file_extension": ".py",
   "mimetype": "text/x-python",
   "name": "python",
   "nbconvert_exporter": "python",
   "pygments_lexer": "ipython3",
   "version": "3.9.18"
  }
 },
 "nbformat": 4,
 "nbformat_minor": 2
}
